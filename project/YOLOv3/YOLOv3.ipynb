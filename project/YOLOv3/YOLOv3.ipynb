{
 "cells": [
  {
   "cell_type": "code",
   "execution_count": 2,
   "metadata": {},
   "outputs": [],
   "source": [
    "# Run some setup code for this notebook.\n",
    "import os\n",
    "import torch\n",
    "# from Darknet_VOC import Darknet\n",
    "from torch.utils.data import Dataset\n",
    "import time\n",
    "import copy\n",
    "import numpy as np\n",
    "import math\n",
    "import torch.nn as nn\n",
    "# from utils.util import *\n",
    "import warnings\n",
    "warnings.filterwarnings(\"ignore\")"
   ]
  },
  {
   "cell_type": "code",
   "execution_count": null,
   "metadata": {},
   "outputs": [],
   "source": [
    "def build_targets(target, anchors, grid_size, num_anchors = 3, num_classes = 20):\n",
    "\n",
    "    nB = target.size(0)\n",
    "    nA = num_anchors\n",
    "    nC = num_classes\n",
    "    nG = grid_size\n",
    "    mask = torch.zeros(nB, nA, nG, nG)\n",
    "    tx = torch.zeros(nB, nA, nG, nG)\n",
    "    ty = torch.zeros(nB, nA, nG, nG)\n",
    "    tw = torch.zeros(nB, nA, nG, nG)\n",
    "    th = torch.zeros(nB, nA, nG, nG)\n",
    "    tconf = torch.zeros(nB, nA, nG, nG)\n",
    "    tcls = torch.zeros(nB, nA, nG, nG, nC)\n",
    "\n",
    "    for b in range(nB):  # for each image\n",
    "        for t in range(target.shape[1]):  # for each object\n",
    "            if target[b, t].sum() == 0:  # if the row is empty\n",
    "                continue\n",
    "            # Convert to object label data to feature map\n",
    "            gx = target[b, t, 1] * nG\n",
    "            gy = target[b, t, 2] * nG\n",
    "            gw = target[b, t, 3] * nG\n",
    "            gh = target[b, t, 4] * nG\n",
    "            # Get grid box indices\n",
    "            gi = int(gx)\n",
    "            gj = int(gy)\n",
    "            # Get shape of gt box\n",
    "            gt_box = torch.FloatTensor(np.array([0, 0, gw, gh])).unsqueeze(0)  # 1 x 4\n",
    "            # Get shape of anchor box\n",
    "            anchor_shapes = torch.FloatTensor(\n",
    "                np.concatenate((np.zeros((len(anchors), 2)), np.array(anchors)), 1))\n",
    "            # Calculate iou between gt and anchor shapes\n",
    "            anch_ious = bbox_iou(gt_box, anchor_shapes)\n",
    "            # Find the best matching anchor box\n",
    "            best_n = np.argmax(anch_ious)\n",
    "            # Masks\n",
    "            mask[b, best_n, gj, gi] = 1\n",
    "            # Coordinates\n",
    "            tx[b, best_n, gj, gi] = gx - gi\n",
    "            ty[b, best_n, gj, gi] = gy - gj\n",
    "            # Width and height\n",
    "            tw[b, best_n, gj, gi] = math.log(gw / anchors[best_n][0] + 1e-16)\n",
    "            th[b, best_n, gj, gi] = math.log(gh / anchors[best_n][1] + 1e-16)\n",
    "            # One-hot encoding of label\n",
    "            target_label = int(target[b, t, 0])\n",
    "            tcls[b, best_n, gj, gi, target_label] = 1\n",
    "            tconf[b, best_n, gj, gi] = 1\n",
    "\n",
    "    return mask, tx, ty, tw, th, tconf, tcls"
   ]
  }
 ],
 "metadata": {
  "kernelspec": {
   "display_name": "Python 3",
   "language": "python",
   "name": "python3"
  },
  "language_info": {
   "codemirror_mode": {
    "name": "ipython",
    "version": 3
   },
   "file_extension": ".py",
   "mimetype": "text/x-python",
   "name": "python",
   "nbconvert_exporter": "python",
   "pygments_lexer": "ipython3",
   "version": "3.5.2"
  }
 },
 "nbformat": 4,
 "nbformat_minor": 4
}
